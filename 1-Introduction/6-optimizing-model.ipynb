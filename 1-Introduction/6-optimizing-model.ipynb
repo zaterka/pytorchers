{
 "cells": [
  {
   "cell_type": "markdown",
   "metadata": {},
   "source": [
    "# Optimizing Model Parameters"
   ]
  },
  {
   "cell_type": "markdown",
   "metadata": {},
   "source": [
    "Now that we have a model and data it’s time to train, validate and test our model by optimizing its parameters on our data. Training a model is an iterative process; in each iteration (called an *epoch*) the model makes a guess about the output, calculates the error in its guess (*loss*), collects the derivatives of the error with respect to its parameters, and **optimizes** these parameters using gradient descent."
   ]
  },
  {
   "cell_type": "code",
   "execution_count": 1,
   "metadata": {},
   "outputs": [],
   "source": [
    "# Loading code from previous sections\n",
    "\n",
    "import torch\n",
    "from torch import nn\n",
    "from torch.utils.data import DataLoader\n",
    "from torchvision import datasets\n",
    "from torchvision.transforms import ToTensor, Lambda\n",
    "\n",
    "training_data = datasets.FashionMNIST(\n",
    "    root=\"data\",\n",
    "    train=True,\n",
    "    download=True,\n",
    "    transform=ToTensor()\n",
    ")\n",
    "\n",
    "test_data = datasets.FashionMNIST(\n",
    "    root=\"data\",\n",
    "    train=False,\n",
    "    download=True,\n",
    "    transform=ToTensor()\n",
    ")\n",
    "\n",
    "train_dataloader = DataLoader(training_data, batch_size=64)\n",
    "test_dataloader = DataLoader(test_data, batch_size=64)\n",
    "\n",
    "class NeuralNetwork(nn.Module):\n",
    "    def __init__(self):\n",
    "        super(NeuralNetwork, self).__init__()\n",
    "        self.flatten = nn.Flatten()\n",
    "        self.linear_relu_stack = nn.Sequential(\n",
    "            nn.Linear(28*28, 512),\n",
    "            nn.ReLU(),\n",
    "            nn.Linear(512, 512),\n",
    "            nn.ReLU(),\n",
    "            nn.Linear(512, 10),\n",
    "        )\n",
    "\n",
    "    def forward(self, x):\n",
    "        x = self.flatten(x)\n",
    "        logits = self.linear_relu_stack(x)\n",
    "        return logits\n",
    "\n",
    "model = NeuralNetwork()"
   ]
  },
  {
   "cell_type": "markdown",
   "metadata": {},
   "source": [
    "## Hyperparameters"
   ]
  },
  {
   "cell_type": "markdown",
   "metadata": {},
   "source": [
    "Hyperparameters are adjustable parameters that let you control the model optimization process. Different hyperparameter values can impact model training and convergence rates (read more about hyperparameter tuning)\n",
    "\n",
    "We define the following hyperparameters for training:\n",
    "\n",
    "- **Number of Epochs** - the number times to iterate over the dataset\n",
    "\n",
    "- **Batch Size** - the number of data samples propagated through the network before the parameters are updated\n",
    "\n",
    "- **Learning Rate** - how much to update models parameters at each batch/epoch. Smaller values yield slow learning speed, while large values may result in unpredictable behavior during training.\n",
    "\n"
   ]
  },
  {
   "cell_type": "code",
   "execution_count": 2,
   "metadata": {},
   "outputs": [],
   "source": [
    "learning_rate = 1e-3\n",
    "batch_size = 64\n",
    "epochs = 5"
   ]
  },
  {
   "cell_type": "markdown",
   "metadata": {},
   "source": [
    "## Optimization Loop"
   ]
  },
  {
   "cell_type": "markdown",
   "metadata": {},
   "source": [
    "Once we set our hyperparameters, we can then train and optimize our model with an optimization loop. Each iteration of the optimization loop is called an **epoch**.\n",
    "\n",
    "Each epoch consists of two main parts:\n",
    "\n",
    "- **The Train Loop** - iterate over the training dataset and try to converge to optimal parameters.\n",
    "\n",
    "- **The Validation/Test Loop** - iterate over the test dataset to check if model performance is improving.\n",
    "\n"
   ]
  },
  {
   "cell_type": "markdown",
   "metadata": {},
   "source": [
    "### Loss Function"
   ]
  },
  {
   "cell_type": "markdown",
   "metadata": {},
   "source": [
    "When presented with some training data, our untrained network is likely not to give the correct answer. **Loss function** measures the degree of dissimilarity of obtained result to the target value, and it is the loss function that we want to minimize during training. To calculate the loss we make a prediction using the inputs of our given data sample and compare it against the true data label value.\n",
    "\n",
    "Common loss functions include ```nn.MSELoss``` (Mean Square Error) for regression tasks, and ```nn.NLLLoss``` (Negative Log Likelihood) for classification. ```nn.CrossEntropyLoss``` combines *nn.LogSoftmax* and *nn.NLLLoss*.\n",
    "\n",
    "We pass our model’s output logits to *nn.CrossEntropyLoss*, which will normalize the logits and compute the prediction error."
   ]
  },
  {
   "cell_type": "code",
   "execution_count": 3,
   "metadata": {},
   "outputs": [],
   "source": [
    "# Initialize the loss function\n",
    "loss_fn = nn.CrossEntropyLoss()"
   ]
  },
  {
   "cell_type": "markdown",
   "metadata": {},
   "source": [
    "### Optimizer"
   ]
  },
  {
   "cell_type": "markdown",
   "metadata": {},
   "source": [
    "Optimization is the process of adjusting model parameters to reduce model error in each training step. **Optimization algorithms** define how this process is performed (in this example we use Stochastic Gradient Descent). All optimization logic is encapsulated in the optimizer object. Here, we use the SGD optimizer; additionally, there are many different optimizers available in PyTorch such as ADAM and RMSProp, that work better for different kinds of models and data.\n",
    "\n",
    "We initialize the optimizer by registering the model’s parameters that need to be trained, and passing in the learning rate hyperparameter."
   ]
  },
  {
   "cell_type": "code",
   "execution_count": 4,
   "metadata": {},
   "outputs": [],
   "source": [
    "optimizer = torch.optim.SGD(model.parameters(), lr=learning_rate)"
   ]
  },
  {
   "cell_type": "markdown",
   "metadata": {},
   "source": [
    "Inside the training loop, optimization happens in three steps:\n",
    "\n",
    "- Call ```optimizer.zero_grad()``` to reset the gradients of model parameters. Gradients by default add up; to prevent double-counting, we explicitly zero them at each iteration.\n",
    "\n",
    "- Backpropagate the prediction loss with a call to ```loss.backward()```. PyTorch deposits the gradients of the loss w.r.t. each parameter.\n",
    "\n",
    "- Once we have our gradients, we call ```optimizer.step()``` to adjust the parameters by the gradients collected in the backward pass.\n",
    "\n"
   ]
  },
  {
   "cell_type": "markdown",
   "metadata": {},
   "source": [
    "### Full Implementation"
   ]
  },
  {
   "cell_type": "code",
   "execution_count": 5,
   "metadata": {},
   "outputs": [],
   "source": [
    "# Defining the training and testing loops\n",
    "\n",
    "def train_loop(dataloader, model, loss_fn, optimizer):\n",
    "    size = len(dataloader.dataset)\n",
    "    for batch, (X, y) in enumerate(dataloader):\n",
    "        # Compute prediction and loss\n",
    "        pred = model(X)\n",
    "        loss = loss_fn(pred, y)\n",
    "\n",
    "        # Backpropagation\n",
    "        optimizer.zero_grad()\n",
    "        loss.backward()\n",
    "        optimizer.step()\n",
    "\n",
    "        if batch % 100 == 0:\n",
    "            loss, current = loss.item(), batch * len(X)\n",
    "            print(f\"loss: {loss:>7f}  [{current:>5d}/{size:>5d}]\")\n",
    "\n",
    "\n",
    "def test_loop(dataloader, model, loss_fn):\n",
    "    size = len(dataloader.dataset)\n",
    "    num_batches = len(dataloader)\n",
    "    test_loss, correct = 0, 0\n",
    "\n",
    "    with torch.no_grad():\n",
    "        for X, y in dataloader:\n",
    "            pred = model(X)\n",
    "            test_loss += loss_fn(pred, y).item()\n",
    "            correct += (pred.argmax(1) == y).type(torch.float).sum().item()\n",
    "\n",
    "    test_loss /= num_batches\n",
    "    correct /= size\n",
    "    print(f\"Test Error: \\n Accuracy: {(100*correct):>0.1f}%, Avg loss: {test_loss:>8f} \\n\")"
   ]
  },
  {
   "cell_type": "code",
   "execution_count": 6,
   "metadata": {},
   "outputs": [
    {
     "name": "stdout",
     "output_type": "stream",
     "text": [
      "Epoch 1\n",
      "-------------------------------\n",
      "loss: 2.294180  [    0/60000]\n",
      "loss: 2.290754  [ 6400/60000]\n",
      "loss: 2.272474  [12800/60000]\n",
      "loss: 2.279535  [19200/60000]\n",
      "loss: 2.253214  [25600/60000]\n",
      "loss: 2.216752  [32000/60000]\n",
      "loss: 2.232167  [38400/60000]\n",
      "loss: 2.192749  [44800/60000]\n",
      "loss: 2.196666  [51200/60000]\n",
      "loss: 2.166768  [57600/60000]\n",
      "Test Error: \n",
      " Accuracy: 32.7%, Avg loss: 2.163387 \n",
      "\n",
      "Epoch 2\n",
      "-------------------------------\n",
      "loss: 2.166565  [    0/60000]\n",
      "loss: 2.158181  [ 6400/60000]\n",
      "loss: 2.108362  [12800/60000]\n",
      "loss: 2.132541  [19200/60000]\n",
      "loss: 2.075413  [25600/60000]\n",
      "loss: 2.013789  [32000/60000]\n",
      "loss: 2.045348  [38400/60000]\n",
      "loss: 1.968013  [44800/60000]\n",
      "loss: 1.979998  [51200/60000]\n",
      "loss: 1.904354  [57600/60000]\n",
      "Test Error: \n",
      " Accuracy: 49.4%, Avg loss: 1.909731 \n",
      "\n",
      "Epoch 3\n",
      "-------------------------------\n",
      "loss: 1.937901  [    0/60000]\n",
      "loss: 1.901808  [ 6400/60000]\n",
      "loss: 1.802859  [12800/60000]\n",
      "loss: 1.846414  [19200/60000]\n",
      "loss: 1.736823  [25600/60000]\n",
      "loss: 1.690972  [32000/60000]\n",
      "loss: 1.718293  [38400/60000]\n",
      "loss: 1.630479  [44800/60000]\n",
      "loss: 1.655095  [51200/60000]\n",
      "loss: 1.546482  [57600/60000]\n",
      "Test Error: \n",
      " Accuracy: 60.0%, Avg loss: 1.569904 \n",
      "\n",
      "Epoch 4\n",
      "-------------------------------\n",
      "loss: 1.629380  [    0/60000]\n",
      "loss: 1.585567  [ 6400/60000]\n",
      "loss: 1.458275  [12800/60000]\n",
      "loss: 1.523401  [19200/60000]\n",
      "loss: 1.415853  [25600/60000]\n",
      "loss: 1.408097  [32000/60000]\n",
      "loss: 1.423915  [38400/60000]\n",
      "loss: 1.358516  [44800/60000]\n",
      "loss: 1.386060  [51200/60000]\n",
      "loss: 1.282538  [57600/60000]\n",
      "Test Error: \n",
      " Accuracy: 63.9%, Avg loss: 1.308909 \n",
      "\n",
      "Epoch 5\n",
      "-------------------------------\n",
      "loss: 1.378845  [    0/60000]\n",
      "loss: 1.350709  [ 6400/60000]\n",
      "loss: 1.204542  [12800/60000]\n",
      "loss: 1.299523  [19200/60000]\n",
      "loss: 1.189488  [25600/60000]\n",
      "loss: 1.206339  [32000/60000]\n",
      "loss: 1.224505  [38400/60000]\n",
      "loss: 1.170862  [44800/60000]\n",
      "loss: 1.202505  [51200/60000]\n",
      "loss: 1.111745  [57600/60000]\n",
      "Test Error: \n",
      " Accuracy: 65.0%, Avg loss: 1.133787 \n",
      "\n",
      "Epoch 6\n",
      "-------------------------------\n",
      "loss: 1.199956  [    0/60000]\n",
      "loss: 1.190514  [ 6400/60000]\n",
      "loss: 1.027115  [12800/60000]\n",
      "loss: 1.150827  [19200/60000]\n",
      "loss: 1.036765  [25600/60000]\n",
      "loss: 1.061956  [32000/60000]\n",
      "loss: 1.090057  [38400/60000]\n",
      "loss: 1.041948  [44800/60000]\n",
      "loss: 1.074562  [51200/60000]\n",
      "loss: 0.997240  [57600/60000]\n",
      "Test Error: \n",
      " Accuracy: 66.1%, Avg loss: 1.014865 \n",
      "\n",
      "Epoch 7\n",
      "-------------------------------\n",
      "loss: 1.070356  [    0/60000]\n",
      "loss: 1.081456  [ 6400/60000]\n",
      "loss: 0.900780  [12800/60000]\n",
      "loss: 1.047631  [19200/60000]\n",
      "loss: 0.935197  [25600/60000]\n",
      "loss: 0.956725  [32000/60000]\n",
      "loss: 0.997373  [38400/60000]\n",
      "loss: 0.953701  [44800/60000]\n",
      "loss: 0.982609  [51200/60000]\n",
      "loss: 0.918885  [57600/60000]\n",
      "Test Error: \n",
      " Accuracy: 67.0%, Avg loss: 0.932275 \n",
      "\n",
      "Epoch 8\n",
      "-------------------------------\n",
      "loss: 0.973743  [    0/60000]\n",
      "loss: 1.005316  [ 6400/60000]\n",
      "loss: 0.809534  [12800/60000]\n",
      "loss: 0.973994  [19200/60000]\n",
      "loss: 0.866827  [25600/60000]\n",
      "loss: 0.879547  [32000/60000]\n",
      "loss: 0.931364  [38400/60000]\n",
      "loss: 0.893604  [44800/60000]\n",
      "loss: 0.915363  [51200/60000]\n",
      "loss: 0.863318  [57600/60000]\n",
      "Test Error: \n",
      " Accuracy: 68.1%, Avg loss: 0.873275 \n",
      "\n",
      "Epoch 9\n",
      "-------------------------------\n",
      "loss: 0.900062  [    0/60000]\n",
      "loss: 0.949979  [ 6400/60000]\n",
      "loss: 0.741845  [12800/60000]\n",
      "loss: 0.920005  [19200/60000]\n",
      "loss: 0.818884  [25600/60000]\n",
      "loss: 0.822297  [32000/60000]\n",
      "loss: 0.882192  [38400/60000]\n",
      "loss: 0.851981  [44800/60000]\n",
      "loss: 0.865847  [51200/60000]\n",
      "loss: 0.822254  [57600/60000]\n",
      "Test Error: \n",
      " Accuracy: 69.3%, Avg loss: 0.829601 \n",
      "\n",
      "Epoch 10\n",
      "-------------------------------\n",
      "loss: 0.842337  [    0/60000]\n",
      "loss: 0.907367  [ 6400/60000]\n",
      "loss: 0.690036  [12800/60000]\n",
      "loss: 0.879364  [19200/60000]\n",
      "loss: 0.783062  [25600/60000]\n",
      "loss: 0.779301  [32000/60000]\n",
      "loss: 0.843769  [38400/60000]\n",
      "loss: 0.822113  [44800/60000]\n",
      "loss: 0.828535  [51200/60000]\n",
      "loss: 0.790344  [57600/60000]\n",
      "Test Error: \n",
      " Accuracy: 70.6%, Avg loss: 0.795838 \n",
      "\n",
      "Done!\n"
     ]
    }
   ],
   "source": [
    "# Initializing loss function and optimizer\n",
    "loss_fn = nn.CrossEntropyLoss()\n",
    "optimizer = torch.optim.SGD(model.parameters(), lr=learning_rate)\n",
    "\n",
    "# Beginning training and testing\n",
    "epochs = 10\n",
    "for t in range(epochs):\n",
    "    print(f\"Epoch {t+1}\\n-------------------------------\")\n",
    "    train_loop(train_dataloader, model, loss_fn, optimizer)\n",
    "    test_loop(test_dataloader, model, loss_fn)\n",
    "print(\"Done!\")"
   ]
  },
  {
   "cell_type": "code",
   "execution_count": null,
   "metadata": {},
   "outputs": [],
   "source": []
  }
 ],
 "metadata": {
  "kernelspec": {
   "display_name": "Python 3.7.9 ('torchenv')",
   "language": "python",
   "name": "python3"
  },
  "language_info": {
   "codemirror_mode": {
    "name": "ipython",
    "version": 3
   },
   "file_extension": ".py",
   "mimetype": "text/x-python",
   "name": "python",
   "nbconvert_exporter": "python",
   "pygments_lexer": "ipython3",
   "version": "3.7.9"
  },
  "orig_nbformat": 4,
  "vscode": {
   "interpreter": {
    "hash": "ae0ddd49281314d31511bc6f90ceaebe159542975c1d555ccf7981f302add398"
   }
  }
 },
 "nbformat": 4,
 "nbformat_minor": 2
}
